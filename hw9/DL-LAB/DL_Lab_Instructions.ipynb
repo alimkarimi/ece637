{
 "cells": [
  {
   "cell_type": "markdown",
   "metadata": {
    "colab_type": "text",
    "id": "zmwWs4S9cRIn"
   },
   "source": [
    "# ECE 637 Deep Learning Laboratory Instructions\n",
    "\n",
    "**Instructions**\n",
    "This Jupyter notebook document entitled **DL_Lab_Instructions** contains instructions for doing your laboratory exercise. \n",
    "A second Jupyter notebook document entited **DL_Lab_Exercises** contains all the exercises that you will need to perform.\n",
    "\n",
    "As you read each section of this lab, you should try runing the associated code snippets. \n",
    "The colaboratory environment allows you to run code snippets locally by clicking on the play button on the left of the code. This is a wonderful feature that allows you to experiment as you read. You should take advantage of this and experiment and test different ideas, so you can become more familiar with the Python and the Jupyter programing environment. \n",
    "\n",
    "At the end of each sub-section, there will be exercises to perform. \n",
    "You should perform the excercise in the document DL_Lab_Exercises, which will contain all your results. \n",
    "You can then hand in your results by printing the DL_Lab_Exercises document as a pdf with all code and simulation results included."
   ]
  },
  {
   "cell_type": "markdown",
   "metadata": {
    "colab_type": "text",
    "id": "Zz2T0QYYpwVR"
   },
   "source": [
    "## Section 1: Introduction to Python and Keras\n",
    "\n",
    "This section introduces basic Python semantics. From previous labs, you are already familiar with Matlab programming,  so the lab emphasizes important differences between Python and Matlab semantics.\n",
    "\n",
    "\n"
   ]
  },
  {
   "cell_type": "markdown",
   "metadata": {
    "colab_type": "text",
    "id": "cvc3e959wWfS"
   },
   "source": [
    "### Basics\n",
    "Python is similar to Matlab in that variables are dynamically created, so there is no need to allocate memory. Moreover, Python variables can hold data of any type. Here are some examples.\n"
   ]
  },
  {
   "cell_type": "code",
   "execution_count": 1,
   "metadata": {
    "colab": {
     "base_uri": "https://localhost:8080/",
     "height": 35
    },
    "colab_type": "code",
    "id": "0ULezOydpUaU",
    "outputId": "64837bd6-aedb-41c9-f217-de7d860d888b"
   },
   "outputs": [
    {
     "data": {
      "text/plain": [
       "(6, [1, 2, 3], 'six')"
      ]
     },
     "execution_count": 1,
     "metadata": {},
     "output_type": "execute_result"
    }
   ],
   "source": [
    "# Python                                      # Matlab\n",
    "x = 6          # a number (int)               x = 6\n",
    "y = [1, 2, 3]  # a list                       x = [1,2,3]  Note: x here for matlab is a matrix\n",
    "z = 'six'      # or \"six\", a string           x = 'six'\n",
    "x, y, z        # print the items"
   ]
  },
  {
   "cell_type": "markdown",
   "metadata": {
    "colab_type": "text",
    "id": "CODfTO3RwvIh"
   },
   "source": [
    "**Important**: A list in Python is different than a matrix in Matlab. A list is just a placeholder for variables of any type. So it is more like a cell array."
   ]
  },
  {
   "cell_type": "code",
   "execution_count": 2,
   "metadata": {
    "colab": {
     "base_uri": "https://localhost:8080/",
     "height": 35
    },
    "colab_type": "code",
    "id": "ratuWodmxKbu",
    "outputId": "b836a191-3695-4198-d243-0488456d94e0"
   },
   "outputs": [
    {
     "data": {
      "text/plain": [
       "[1, 'one', True, 2, 0.6666666666666666, 6]"
      ]
     },
     "execution_count": 2,
     "metadata": {},
     "output_type": "execute_result"
    }
   ],
   "source": [
    "A = [1, 'one', True, 1+1, 6/9, 60//9]  # create a list\n",
    "A                                      # print the list"
   ]
  },
  {
   "cell_type": "markdown",
   "metadata": {
    "colab_type": "text",
    "id": "SoB6QkRaxcrW"
   },
   "source": [
    "In Matlab, if we want to add 1 to every entry in a matrix we do this.\n",
    "\n",
    "```\n",
    "A = [1, 1, 1]\n",
    "A + 1\n",
    "```\n",
    "However, in Python this is not allowed:"
   ]
  },
  {
   "cell_type": "code",
   "execution_count": 3,
   "metadata": {
    "colab": {},
    "colab_type": "code",
    "id": "vWLKMvy3zWey"
   },
   "outputs": [],
   "source": [
    "A = [1, 1, 1]\n",
    "# A + 1            # uncommand this line and execute this block to generate and error"
   ]
  },
  {
   "cell_type": "markdown",
   "metadata": {
    "colab_type": "text",
    "id": "MaNfVItFzk8b"
   },
   "source": [
    "The error here is simply because a **list** can only \"add\" with another **list**. \"Add\" here means concatenation."
   ]
  },
  {
   "cell_type": "code",
   "execution_count": 5,
   "metadata": {
    "colab": {
     "base_uri": "https://localhost:8080/",
     "height": 35
    },
    "colab_type": "code",
    "id": "RyxC07uD0-sf",
    "outputId": "31582c0d-fbfe-494d-cdd7-85a519ee9a4c"
   },
   "outputs": [
    {
     "data": {
      "text/plain": [
       "[1, 1, 1, 3]"
      ]
     },
     "execution_count": 5,
     "metadata": {},
     "output_type": "execute_result"
    }
   ],
   "source": [
    "A = [1, 1, 1]\n",
    "A + [3]"
   ]
  },
  {
   "cell_type": "markdown",
   "metadata": {
    "colab_type": "text",
    "id": "tjmI5d-lpMHQ"
   },
   "source": [
    "Also Python is a **0-index** language, which means all indices start at 0 (unlike in Matlab which starts at \"1\")."
   ]
  },
  {
   "cell_type": "code",
   "execution_count": 6,
   "metadata": {
    "colab": {
     "base_uri": "https://localhost:8080/",
     "height": 35
    },
    "colab_type": "code",
    "id": "fsHMuM7_qJYW",
    "outputId": "086ee1b6-489f-4f19-d684-105619942d07"
   },
   "outputs": [
    {
     "data": {
      "text/plain": [
       "(0, 4)"
      ]
     },
     "execution_count": 6,
     "metadata": {},
     "output_type": "execute_result"
    }
   ],
   "source": [
    "# Python                    # Matlab\n",
    "A = [0, 1, 2, 3, 4]         # A = [0, 1, 2, 3, 4]       create a list/array\n",
    "first = A[0]                # A(1)                      pick the first element   \n",
    "last = A[-1]                # A(end)                    pick the last element\n",
    "first, last"
   ]
  },
  {
   "cell_type": "markdown",
   "metadata": {
    "colab_type": "text",
    "id": "W9j3Ywnnr1L8"
   },
   "source": [
    "**Important**: Python can have negative indexing. It basically helps to index the array from right to left, starting at \"-1\"."
   ]
  },
  {
   "cell_type": "code",
   "execution_count": 0,
   "metadata": {
    "colab": {
     "base_uri": "https://localhost:8080/",
     "height": 52
    },
    "colab_type": "code",
    "id": "-NbJwYDQsqcu",
    "outputId": "eeb2d107-872a-4937-853f-bee260bdb033"
   },
   "outputs": [
    {
     "name": "stdout",
     "output_type": "stream",
     "text": [
      "4 3 2 1 0\n",
      "4 3 2 1 0\n"
     ]
    }
   ],
   "source": [
    "A = [0, 1, 2, 3, 4]\n",
    "print(A[-1], A[-2], A[-3], A[-4], A[-5])\n",
    "print(A[ 4], A[ 3], A[ 2], A[ 1], A[ 0])"
   ]
  },
  {
   "cell_type": "markdown",
   "metadata": {
    "colab_type": "text",
    "id": "RfjjcFMonPN_"
   },
   "source": [
    "Lists are just one of the native classes in Python. In fact **everything** in Python is an object of a class and each class comes with it's class functions. You can find the class of an object with the `type` function and you can access the class functions and class attributes with the `.` (period) operator.Here are some examples of that."
   ]
  },
  {
   "cell_type": "code",
   "execution_count": 13,
   "metadata": {
    "colab": {
     "base_uri": "https://localhost:8080/",
     "height": 87
    },
    "colab_type": "code",
    "id": "2itIdhdNnxe4",
    "outputId": "6cbcb021-1ac4-48ef-9ade-240c8a982665"
   },
   "outputs": [
    {
     "name": "stdout",
     "output_type": "stream",
     "text": [
      "<class 'str'>\n",
      "11\n",
      "Hello World!\n",
      "hello world!\n",
      "hello again!\n"
     ]
    }
   ],
   "source": [
    "a = 'Hello World!'\n",
    "print(type(a))   # string\n",
    "print(a.find('!'))\n",
    "\n",
    "# class function of str that \n",
    "                 # finds the index of the first 'l'\n",
    "\n",
    "b = a.lower()    # class function of str that \n",
    "                 # makes the string lowercase\n",
    "print(a)\n",
    "print(b)\n",
    "print('Hello again!'.lower())     # yes, even string litrals are objects\n"
   ]
  },
  {
   "cell_type": "markdown",
   "metadata": {
    "colab_type": "text",
    "id": "lr0ViwsbtYJO"
   },
   "source": [
    "The main data classes are **lists**, **tuples**, **dictionaries**, **strings** and **sets**. You should make yourself familiar with the syntax and the main functions associated with these classes."
   ]
  },
  {
   "cell_type": "markdown",
   "metadata": {
    "colab_type": "text",
    "id": "wvuXB3wDptPI"
   },
   "source": [
    "#### Exercise 1.1:\n",
    "Perform Exercise 1.1 in Jupyter notebook document **DL_Lab_Exercises**.\n",
    "\n",
    "\n",
    "\n",
    "---\n",
    "\n"
   ]
  },
  {
   "cell_type": "markdown",
   "metadata": {
    "colab_type": "text",
    "id": "IBwocFbxwPEy"
   },
   "source": [
    "\n",
    "### Packages\n",
    "Matlab is great for matrix operations and data visualization. However, in order to perform these actions in Python, you must use associated Python packages. Three commonly used Python packages are:\n",
    "\n",
    "*   Numpy - Matrix processing package\n",
    "*   Scipy - Scientific function package\n",
    "*   Matplotlib - Data visualization package\n",
    "\n",
    "In the following subsection, we will introduce these Python packages and use them to apply a low pass filter to a signal with noisy sinusoidal waves.\n",
    "\n"
   ]
  },
  {
   "cell_type": "markdown",
   "metadata": {
    "colab_type": "text",
    "id": "vAd5Gpz133AP"
   },
   "source": [
    "\n",
    "When you open a new python environment, the environment itself is empty. If you want to use certain packages, you need to **import** them first. There are several ways that we can import packages:"
   ]
  },
  {
   "cell_type": "code",
   "execution_count": 14,
   "metadata": {
    "colab": {},
    "colab_type": "code",
    "id": "CLeP7bdYpoDu"
   },
   "outputs": [],
   "source": [
    "import numpy as np                     # import the numpy packages and use the shorter name \"np\"\n",
    "import matplotlib.pyplot as plt        # import matplotlib's pyplot package using the alias \"plt\"\n",
    "from scipy import signal               # import the package \"signal\" from scipy"
   ]
  },
  {
   "cell_type": "markdown",
   "metadata": {
    "colab_type": "text",
    "id": "YHi9UCVFM6Bm"
   },
   "source": [
    "Let's try to use these three packages to filter a noisy signal.  We will first  generate the input signal using numpy and matplotlib."
   ]
  },
  {
   "cell_type": "code",
   "execution_count": 15,
   "metadata": {
    "colab": {
     "base_uri": "https://localhost:8080/",
     "height": 363
    },
    "colab_type": "code",
    "id": "2Qn0cw0OIEEU",
    "outputId": "2fc6ab78-9821-45aa-9c9b-6491c3cb874e"
   },
   "outputs": [
    {
     "data": {
      "image/png": "[encoded data removed]",
      "text/plain": [
       "<Figure size 432x288 with 2 Axes>"
      ]
     },
     "metadata": {
      "needs_background": "light"
     },
     "output_type": "display_data"
    }
   ],
   "source": [
    "# Python Code                          # Matlab Code\n",
    "t = np.linspace(-np.pi, np.pi, 100)    # t = linspace(-pi, pi, 100);\n",
    "f = np.sin(t)                          # f = sin(t);\n",
    "n = np.random.randn(100)*0.1           # n = randn(100,1)*0.1;\n",
    "f_n = f+n                              # f_n = f+n;\n",
    "plt.subplot(2,1,1)                     # subplot(2,1,1)\n",
    "plt.plot(t,f)                          # plot(t, f)\n",
    "plt.title('original')                  # title('original')\n",
    "plt.subplot(2,1,2)                     # subplot(2,1,2)\n",
    "plt.plot(t,f_n)                        # plot(t, f_n)\n",
    "plt.title('noisy')                     # title('noisy')\n",
    "plt.show()"
   ]
  },
  {
   "cell_type": "markdown",
   "metadata": {
    "colab_type": "text",
    "id": "OO79T5DyNm_t"
   },
   "source": [
    "Apply a median filter with window size 5 to our signal."
   ]
  },
  {
   "cell_type": "code",
   "execution_count": 16,
   "metadata": {
    "colab": {
     "base_uri": "https://localhost:8080/",
     "height": 347
    },
    "colab_type": "code",
    "id": "gXzh_dC9JSdY",
    "outputId": "8c31145c-ba46-4975-f19c-641934cb8762"
   },
   "outputs": [
    {
     "data": {
      "image/png": "[encoded data removed]",
      "text/plain": [
       "<Figure size 432x288 with 1 Axes>"
      ]
     },
     "metadata": {
      "needs_background": "light"
     },
     "output_type": "display_data"
    }
   ],
   "source": [
    "# Python Code\n",
    "y = signal.medfilt(f_n, kernel_size = 5)\n",
    "plt.plot(t, f_n, t, y)\n",
    "plt.legend(('Noisy','Filtered'))\n",
    "plt.show()"
   ]
  },
  {
   "cell_type": "markdown",
   "metadata": {
    "colab_type": "text",
    "id": "Mm1L4TQXYICL"
   },
   "source": [
    "There also exists Python packages for neural networks and deep learning. Here are some popular packages:\n",
    "\n",
    "*   TensorFlow (Google)\n",
    "*   Pytorch (Facebook)\n",
    "*   Keras (François Chollet)\n",
    "*   Caffe (Berkeley)\n",
    "\n",
    "In this lab, we will use Keras as our deep learning packages."
   ]
  },
  {
   "cell_type": "code",
   "execution_count": 17,
   "metadata": {
    "colab": {
     "base_uri": "https://localhost:8080/",
     "height": 52
    },
    "colab_type": "code",
    "id": "VOxgiT22RLQS",
    "outputId": "f1f33c98-37d6-477b-ca41-fa05a18b732f"
   },
   "outputs": [
    {
     "name": "stderr",
     "output_type": "stream",
     "text": [
      "Using TensorFlow backend.\n"
     ]
    },
    {
     "data": {
      "text/plain": [
       "'2.3.1'"
      ]
     },
     "execution_count": 17,
     "metadata": {},
     "output_type": "execute_result"
    }
   ],
   "source": [
    "import keras\n",
    "keras.__version__"
   ]
  },
  {
   "cell_type": "markdown",
   "metadata": {
    "colab_type": "text",
    "id": "Urzw6WEKSmW1"
   },
   "source": [
    "####Exercise 1.2\n",
    "Perform Exercise 1.2 in Jupyter notebook document **DL_Lab_Exercises**.\n",
    "\n",
    "\n",
    "---\n",
    "\n",
    "\n"
   ]
  },
  {
   "cell_type": "markdown",
   "metadata": {
    "colab_type": "text",
    "id": "4-A43uls066h"
   },
   "source": [
    "## Section 2: Image Classfication using Dense Networks\n",
    "In this section, you will learn how to build and use a fully connected or dense neural network to perform simple classification tasks on images of hand-written digits.\n",
    "To do this, we will use the [MNIST data set](https://en.wikipedia.org/wiki/MNIST_database) that is included with the Keras package.\n",
    "\n",
    "We will do this in four steps:\n",
    "1. Loading data - Here we download the images into numpy arrays.\n",
    "\n",
    "2. Constructing the network - In this step we specify the architecture of the network that we plan to use.\n",
    "\n",
    "3. Training the network - In this step we use an optimization algorithm known as stochastic gradient descent to minimize a loss function of our choosing.\n",
    "\n",
    "4. Testing the network - In this step, we run our test data through the network to determine the accuracy of our classifications."
   ]
  },
  {
   "cell_type": "markdown",
   "metadata": {
    "colab_type": "text",
    "id": "HeWO5KJX5gNm"
   },
   "source": [
    "### Loading Data\n",
    "\n",
    "In the following section, we will learn how to load data for training and testing into our Keras environment. \n",
    "The following commands download the MNIST data set from the server and put the data in our workspace."
   ]
  },
  {
   "cell_type": "code",
   "execution_count": 18,
   "metadata": {
    "colab": {
     "base_uri": "https://localhost:8080/",
     "height": 87
    },
    "colab_type": "code",
    "id": "24qn8jFj32DV",
    "outputId": "8c3f5a43-6c70-4f35-c4d6-4108342b3a11"
   },
   "outputs": [
    {
     "name": "stdout",
     "output_type": "stream",
     "text": [
      "Downloading data from https://s3.amazonaws.com/img-datasets/mnist.npz\n",
      "11493376/11490434 [==============================] - 1s 0us/step\n",
      "<class 'numpy.ndarray'>\n",
      "<class 'numpy.uint8'>\n"
     ]
    }
   ],
   "source": [
    "import keras\n",
    "from keras.datasets import mnist\n",
    "(train_images, train_labels), (test_images, test_labels) = mnist.load_data()\n",
    "\n",
    "print(type(train_images))\n",
    "print(type(train_images[0,0,0]))"
   ]
  },
  {
   "cell_type": "markdown",
   "metadata": {
    "colab_type": "text",
    "id": "d4ojXtFy6XPj"
   },
   "source": [
    "The MNIST data set contains two arrays, \"train_images\" and \"test_images\". \n",
    "The training data will be used to train our algorithms.\n",
    "However, in order to access the accuracy of our resulting classifier, we will need a separate set of testing images.\n",
    "\n",
    "The training data has 60,000 grayscale images of size 28x28 while the testing data has 10,000 that are stored as numpy ND-arrays of `unint8` integers."
   ]
  },
  {
   "cell_type": "code",
   "execution_count": 19,
   "metadata": {
    "colab": {
     "base_uri": "https://localhost:8080/",
     "height": 52
    },
    "colab_type": "code",
    "id": "j6SPSUvf60Vq",
    "outputId": "91a990ea-7023-43ad-c725-18977ac585dc"
   },
   "outputs": [
    {
     "name": "stdout",
     "output_type": "stream",
     "text": [
      "Training Data Shape:   (60000, 28, 28)\n",
      "Testing Data Shape:    (10000, 28, 28)\n"
     ]
    }
   ],
   "source": [
    "print(f'Training Data Shape:   {train_images.shape}')          # This is a so-called f-string\n",
    "print(f'Testing Data Shape:    {test_images.shape}')"
   ]
  },
  {
   "cell_type": "markdown",
   "metadata": {
    "colab_type": "text",
    "id": "4mvNPhfsT4Ka"
   },
   "source": [
    "It is often useful to reshape the data into conventional format with dimenstions (height, width, channels). Since these are gray scale images, each image image only has a single channel (as opposed to 3 with RGB images)."
   ]
  },
  {
   "cell_type": "code",
   "execution_count": 20,
   "metadata": {
    "colab": {
     "base_uri": "https://localhost:8080/",
     "height": 52
    },
    "colab_type": "code",
    "id": "ArZvuIDOTEI6",
    "outputId": "373f2506-3344-40d2-a0c9-0bf5be86952e"
   },
   "outputs": [
    {
     "name": "stdout",
     "output_type": "stream",
     "text": [
      "Training Data Shape:   (60000, 28, 28, 1)\n",
      "Testing Data Shape:    (10000, 28, 28, 1)\n"
     ]
    }
   ],
   "source": [
    "train_images = train_images.reshape((60000, 28, 28, 1))\n",
    "test_images = test_images.reshape((10000, 28, 28, 1))\n",
    "\n",
    "print(f'Training Data Shape:   {train_images.shape}')\n",
    "print(f'Testing Data Shape:    {test_images.shape}')\n"
   ]
  },
  {
   "cell_type": "markdown",
   "metadata": {
    "colab_type": "text",
    "id": "Wka6pQXG7AyX"
   },
   "source": [
    "The following example shows how to visualize the first image in the training set using the \"imshow\" function in the matplotlib package. \n"
   ]
  },
  {
   "cell_type": "code",
   "execution_count": 21,
   "metadata": {
    "colab": {
     "base_uri": "https://localhost:8080/",
     "height": 347
    },
    "colab_type": "code",
    "id": "UbiCxque668k",
    "outputId": "8de280a0-c547-4e74-ba69-37b7dd2ec163"
   },
   "outputs": [
    {
     "name": "stderr",
     "output_type": "stream",
     "text": [
      "/Users/alim/.local/lib/python3.7/site-packages/ipykernel_launcher.py:4: MatplotlibDeprecationWarning: The 'b' parameter of grid() has been renamed 'visible' since Matplotlib 3.5; support for the old name will be dropped two minor releases later.\n",
      "  after removing the cwd from sys.path.\n"
     ]
    },
    {
     "data": {
      "image/png": "[encoded data removed]",
      "text/plain": [
       "<Figure size 432x288 with 1 Axes>"
      ]
     },
     "metadata": {
      "needs_background": "light"
     },
     "output_type": "display_data"
    }
   ],
   "source": [
    "image = train_images[0,:,:,0]     # Select first image\n",
    "plt.imshow(image, cmap='gray')  # Display as a gray scale image\n",
    "ax = plt.gca()                  # Get handle to image\n",
    "ax.grid(b=None)                 # Turn off grid\n",
    "plt.show()                      # Show image"
   ]
  },
  {
   "cell_type": "markdown",
   "metadata": {
    "colab_type": "text",
    "id": "KW89YaYkbFm3"
   },
   "source": [
    "The MNIST data set also contains two arrays, \"train_labels\" and \"test_labels\". \n",
    "These arrays contain the \"ground truth\" labels for each of the digit images. \n",
    "Ground truth will be needed to both perform \"supervised\" training of the classifier, and then also to evaluate the accuracy of the classifier on the testing data. \n",
    "\n",
    "The following commands list the sizes of the two training arrays and print out the value of the first training label."
   ]
  },
  {
   "cell_type": "code",
   "execution_count": 22,
   "metadata": {
    "colab": {
     "base_uri": "https://localhost:8080/",
     "height": 52
    },
    "colab_type": "code",
    "id": "s13ZRICDbT4P",
    "outputId": "f4554f18-11bc-4260-83cf-8d50eb3e70e4"
   },
   "outputs": [
    {
     "name": "stdout",
     "output_type": "stream",
     "text": [
      "Training Labels Shape: (60000,)\n",
      "Testing Labels Shape:  (10000,)\n"
     ]
    }
   ],
   "source": [
    "print(f'Training Labels Shape: {train_labels.shape}')\n",
    "print(f'Testing Labels Shape:  {test_labels.shape}')"
   ]
  },
  {
   "cell_type": "markdown",
   "metadata": {
    "colab_type": "text",
    "id": "38bE6Y80bet7"
   },
   "source": [
    "Notice that the training labels array has length 60,000, and the testing label array has length 10,000. This makes sense since there should be one label for each image. Each entry in the array contains an integer corresponding the handwritten digit. \n",
    "\n",
    "\n",
    "A quick sanity check on of the first training label shows that the first image is correctly labled with \"5\"."
   ]
  },
  {
   "cell_type": "code",
   "execution_count": 26,
   "metadata": {
    "colab": {
     "base_uri": "https://localhost:8080/",
     "height": 35
    },
    "colab_type": "code",
    "id": "mbbymQnJag6X",
    "outputId": "38dfb24a-775e-4e6e-b875-4d233ac18115"
   },
   "outputs": [
    {
     "name": "stdout",
     "output_type": "stream",
     "text": [
      "First label: 5\n"
     ]
    }
   ],
   "source": [
    "print(f'First label: {train_labels[0]}')"
   ]
  },
  {
   "cell_type": "markdown",
   "metadata": {
    "colab_type": "text",
    "id": "lDNH0PeicPH5"
   },
   "source": [
    "#### Exercise 2.1\n",
    "\n",
    "Perform Exercise 2.1 in Jupyter notebook document DL_Lab_Exercises.\n",
    "\n",
    "\n",
    "\n",
    "---\n"
   ]
  },
  {
   "cell_type": "markdown",
   "metadata": {
    "colab_type": "text",
    "id": "Mn0yW37Mdt9S"
   },
   "source": [
    "### Constructing the Network \n",
    "Deep neural networks typically consist of successive processing layers, with each layer formed by a linear transformation followed by a non-linear operation.\n",
    "In this section, each layer of our network will be formed by a fully connected layer (Dense). \n",
    "This approach is simple, but it tends to result in networks that require a great deal of computation and many parameters to optimize.\n",
    "\n",
    "Here is how we define a sequential model from the [**keras.models**](https://keras.io/models/about-keras-models/) package and how we add dense layers from the [**keras.layers**](https://keras.io/layers/core/) package."
   ]
  },
  {
   "cell_type": "code",
   "execution_count": 27,
   "metadata": {
    "colab": {
     "base_uri": "https://localhost:8080/",
     "height": 89
    },
    "colab_type": "code",
    "id": "Ls_CowKFgIJC",
    "outputId": "0a08ef70-d866-4466-a84f-383509b5a76a"
   },
   "outputs": [
    {
     "name": "stderr",
     "output_type": "stream",
     "text": [
      "2023-04-23 15:54:22.293777: I tensorflow/core/platform/cpu_feature_guard.cc:145] This TensorFlow binary is optimized with Intel(R) MKL-DNN to use the following CPU instructions in performance critical operations:  SSE4.1 SSE4.2\n",
      "To enable them in non-MKL-DNN operations, rebuild TensorFlow with the appropriate compiler flags.\n",
      "2023-04-23 15:54:22.294396: I tensorflow/core/common_runtime/process_util.cc:115] Creating new thread pool with default inter op setting: 10. Tune using inter_op_parallelism_threads for best performance.\n"
     ]
    }
   ],
   "source": [
    "from keras import models\n",
    "from keras import layers\n",
    "\n",
    "network = models.Sequential()\n",
    "network.add(layers.Flatten(input_shape=(28, 28, 1)))\n",
    "network.add(layers.Dense(512, activation='relu'))\n",
    "network.add(layers.Dense(10, activation='softmax'))"
   ]
  },
  {
   "cell_type": "markdown",
   "metadata": {
    "colab_type": "text",
    "id": "HbM6ys-Gl05-"
   },
   "source": [
    "\n",
    "Let us go through this squence of commands in order to understand what it does.\n",
    "\n",
    "```\n",
    "network = models.Sequential()\n",
    "```\n",
    "* The `Sequential` function creates a placeholder named \"network\" for the newly created network. \n",
    "Once this is done, then we can use the following comand to sequentially add layers to the model.\n",
    "\n",
    "```\n",
    "network.add(layers.Flatten(input_shape=(28, 28, 1)))\n",
    "```\n",
    "*  `network.add()` - This command adds a layer to the model.\n",
    "*  `input_shape=(28,28,1)` - This specifies that the input images will have size (28x28x1). This parameter only needs to be specified for the first layer. Subsequent layers infer the proper input size automatically.\n",
    "* `Flatten` - Since we are using a fully connected layer first, we reshape the input tensor into a 1-D vector\n",
    "\n",
    "```\n",
    "network.add(layers.Dense(512, activation='relu'))\n",
    "```\n",
    "*  `layers.Dense()` - This command specifies that the layer will be a fully connected or \"dense\" linear network. \n",
    "*  `512` - The first argument specifies that the there will be 512 outputs to the first first layer of the network.\n",
    "*  `activation='relu'` - This specifies that the non-linear activation mapping will be a rectifying linear unit commonly known as a ReLU. This is a simple and effective choice.\n",
    "\n",
    "The next following command adds a second layer to the network:\n",
    "\n",
    "```\n",
    "network.add(layers.Dense(10, activation='softmax'))\n",
    "```\n",
    "The output dimension in 10 and the activation function for this layer is the \"softmax\" function which is a non-linear operator that converts the output into a pseudo probability distribution.\n",
    "\n",
    "Finally, we can print a summary of our neural network we have constructed by using the command `network.summary()` as shown below. The dimenstions that are of size `None` correspond to the batch size. This also shows how many trainable parameters are in the network and where they are located.\n"
   ]
  },
  {
   "cell_type": "code",
   "execution_count": 28,
   "metadata": {
    "colab": {
     "base_uri": "https://localhost:8080/",
     "height": 243
    },
    "colab_type": "code",
    "id": "rEQhCfu8cr7f",
    "outputId": "5abf6c58-6826-4b66-8612-b6194db78bfb"
   },
   "outputs": [
    {
     "name": "stdout",
     "output_type": "stream",
     "text": [
      "Model: \"sequential_1\"\n",
      "_________________________________________________________________\n",
      "Layer (type)                 Output Shape              Param #   \n",
      "=================================================================\n",
      "flatten_1 (Flatten)          (None, 784)               0         \n",
      "_________________________________________________________________\n",
      "dense_1 (Dense)              (None, 512)               401920    \n",
      "_________________________________________________________________\n",
      "dense_2 (Dense)              (None, 10)                5130      \n",
      "=================================================================\n",
      "Total params: 407,050\n",
      "Trainable params: 407,050\n",
      "Non-trainable params: 0\n",
      "_________________________________________________________________\n"
     ]
    }
   ],
   "source": [
    "network.summary()"
   ]
  },
  {
   "cell_type": "markdown",
   "metadata": {
    "colab_type": "text",
    "id": "dhPFdwUqWaJk"
   },
   "source": [
    "\n",
    "\n",
    "---\n",
    "\n"
   ]
  },
  {
   "cell_type": "markdown",
   "metadata": {
    "colab_type": "text",
    "id": "m8HGUkEAL_6B"
   },
   "source": [
    "### Training the Network\n",
    "\n",
    "**Optimization:** \n",
    "In order to train the network, we will run an optimization engine that minimizes a loss function that we choose. \n",
    "The key to optimization of neural networks is an algorithm called back propogation that computes the gradient of the loss function with repect to the network parameters or weights. \n",
    "The following command sets up the optimizer and sets its parameters."
   ]
  },
  {
   "cell_type": "code",
   "execution_count": 29,
   "metadata": {
    "colab": {},
    "colab_type": "code",
    "id": "dYlVocAUPgPs"
   },
   "outputs": [],
   "source": [
    "network.compile(optimizer='rmsprop', loss='categorical_crossentropy', metrics=['accuracy'])"
   ]
  },
  {
   "cell_type": "markdown",
   "metadata": {
    "colab_type": "text",
    "id": "a7ht-x9-PlVo"
   },
   "source": [
    "Here the optimizer we use is called \"rmsprop\", and the loss function is called \"categorical crossentropy\".\n",
    "The \"metrics\" parameter allows us to access values during the iterations of the optimization.\n",
    "The details of this optimization algorithm are complex and go beyond the scope of this lab. \n",
    "However, the beauty of Keras is that it allows you to build and train neural networks without having to deal with the details of this very important optimization process.\n",
    "If you are interested in more details, you will find the following links helpful. ([Optimizer](http://ruder.io/optimizing-gradient-descent/), [Losses](https://keras.io/losses/)). \n",
    "\n",
    "**Data preprocessing:**\n",
    "\n",
    "Since the weights in the neural network are initialized near zero, we also want to rescale the data into the range from 0 to 1 (i.e., roughly the same order of magnitude of the weights).  \n",
    "More information about initialization of weights can be found [here](https://towardsdatascience.com/random-initialization-for-neural-networks-a-thing-of-the-past-bfcdd806bf9e)."
   ]
  },
  {
   "cell_type": "code",
   "execution_count": 30,
   "metadata": {
    "colab": {},
    "colab_type": "code",
    "id": "gOsGFXpZdeae"
   },
   "outputs": [],
   "source": [
    "train_images_nor = train_images.astype('float32') / 255\n",
    "test_images_nor = test_images.astype('float32') / 255"
   ]
  },
  {
   "cell_type": "markdown",
   "metadata": {
    "colab_type": "text",
    "id": "ElsB-YbCU-UW"
   },
   "source": [
    "Since we are using \"categorical_crossentropy\" as our loss function, we will also need to convert our labels into \"categorical form\".\n",
    "In categorical each label is a vector of length 10, with a single 1 in the position associated with the correct class. \n",
    "This is much less effecient to store, but it offers important advantages for training the network."
   ]
  },
  {
   "cell_type": "code",
   "execution_count": 31,
   "metadata": {
    "colab": {
     "base_uri": "https://localhost:8080/",
     "height": 52
    },
    "colab_type": "code",
    "id": "w36wiG96VWtY",
    "outputId": "d9a9e4a1-da88-44ec-ed24-bc480bc102c4"
   },
   "outputs": [
    {
     "name": "stdout",
     "output_type": "stream",
     "text": [
      "Training Labels Shape: (60000, 10)\n",
      "Testing Labels Shape:  (10000, 10)\n"
     ]
    }
   ],
   "source": [
    "from keras.utils import to_categorical\n",
    "\n",
    "train_labels_cat = to_categorical(train_labels)\n",
    "test_labels_cat = to_categorical(test_labels)\n",
    "\n",
    "print(f'Training Labels Shape: {train_labels_cat.shape}')\n",
    "print(f'Testing Labels Shape:  {test_labels_cat.shape}')"
   ]
  },
  {
   "cell_type": "markdown",
   "metadata": {
    "colab_type": "text",
    "id": "BBuZTtYXZKtA"
   },
   "source": [
    "Each lable is now encoded as a 10-dimensional 1-hot vector. From above the first label, \"5\", is now encoded as follows:"
   ]
  },
  {
   "cell_type": "code",
   "execution_count": 34,
   "metadata": {
    "colab": {
     "base_uri": "https://localhost:8080/",
     "height": 35
    },
    "colab_type": "code",
    "id": "tMmj0-1SWaxT",
    "outputId": "f9fa599d-ecdb-4a25-eda0-56b956e7e353"
   },
   "outputs": [
    {
     "name": "stdout",
     "output_type": "stream",
     "text": [
      "train_labels_cat[0]:  [0. 0. 0. 0. 0. 1. 0. 0. 0. 0.]\n"
     ]
    }
   ],
   "source": [
    "print(f'train_labels_cat[0]:  {train_labels_cat[0]}')"
   ]
  },
  {
   "cell_type": "markdown",
   "metadata": {
    "colab_type": "text",
    "id": "YRRTWoArW_k8"
   },
   "source": [
    "**Training:**\n",
    "The `fit` command can next be used to run the optimization algorithm and train the network. \n",
    "Key parameters are defined below:\n",
    "*  `train_images_nor` - This is the input data array used for training the network.\n",
    "*  `train_labels_cat` - These are the labels used for training.\n",
    "*  `epochs=5` - This specifies that the algorithm should run 5 epochs, where a single epoch is defined as one full pass through all the training data.\n",
    "*  `batch_size=128` - This specifies that data is processed in batches of 128 training images. With each batch, a gradient update is performed for the network parameters."
   ]
  },
  {
   "cell_type": "code",
   "execution_count": 35,
   "metadata": {
    "colab": {
     "base_uri": "https://localhost:8080/",
     "height": 263
    },
    "colab_type": "code",
    "id": "2Re81BI2Zts5",
    "outputId": "38edd608-7132-4571-9878-e702ce9a5c4f"
   },
   "outputs": [
    {
     "name": "stdout",
     "output_type": "stream",
     "text": [
      "Epoch 1/5\n",
      "60000/60000 [==============================] - 8s 127us/step - loss: 0.2563 - accuracy: 0.9257\n",
      "Epoch 2/5\n",
      "60000/60000 [==============================] - 7s 124us/step - loss: 0.1030 - accuracy: 0.9699\n",
      "Epoch 3/5\n",
      "60000/60000 [==============================] - 8s 131us/step - loss: 0.0684 - accuracy: 0.9793\n",
      "Epoch 4/5\n",
      "60000/60000 [==============================] - 8s 130us/step - loss: 0.0497 - accuracy: 0.9855\n",
      "Epoch 5/5\n",
      "60000/60000 [==============================] - 8s 133us/step - loss: 0.0374 - accuracy: 0.9886\n"
     ]
    }
   ],
   "source": [
    "hist = network.fit(train_images_nor, train_labels_cat, epochs=5, batch_size=128)"
   ]
  },
  {
   "cell_type": "markdown",
   "metadata": {
    "colab_type": "text",
    "id": "L-5x_ui_dONV"
   },
   "source": [
    "The optimization algorithm prints out the value of loss as well as the accuracy of the network immediately after each epoch during train. \n",
    "Notice that the final accuracy is about 99% after 5 epochs of training, which seems quite good. \n",
    "However, it isn't clear if this result can be trusted since the network was provided the correct classes in the training process.\n",
    "\n",
    "In order to better access the networks performance, we next run it on the new testing data to see its accuracy.\n",
    "This step, which is often called \"inference\", is run with the the network parameters that we learned from the training step."
   ]
  },
  {
   "cell_type": "code",
   "execution_count": 36,
   "metadata": {
    "colab": {
     "base_uri": "https://localhost:8080/",
     "height": 52
    },
    "colab_type": "code",
    "id": "XfNNywxrdQ7F",
    "outputId": "35aceb48-780e-41e1-b8ad-41bb9383689a"
   },
   "outputs": [
    {
     "name": "stdout",
     "output_type": "stream",
     "text": [
      "10000/10000 [==============================] - 1s 85us/step\n",
      "test_accuracy: 0.9794999957084656\n"
     ]
    }
   ],
   "source": [
    "test_loss, test_acc = network.evaluate(test_images_nor, test_labels_cat)\n",
    "print('test_accuracy:', test_acc)"
   ]
  },
  {
   "cell_type": "markdown",
   "metadata": {
    "colab_type": "text",
    "id": "pTv7u21ueq6j"
   },
   "source": [
    "The accuracy on the testing data only about 98% which is lower what we obtained on the training data, but still relatively good considering that the network had not yet seen the test images.\n",
    "In general, the accuracy on the training data is higher than accuracy on the testing data.\n",
    "This is because the network will tend to \"overfit\" to the training data especially when the number of training examples is low.\n"
   ]
  },
  {
   "cell_type": "markdown",
   "metadata": {
    "colab_type": "text",
    "id": "ZN_VlmAceZR8"
   },
   "source": [
    "#### Exercise 2.2\n",
    "\n",
    "Perform Exercise 2.2 in Jupyter notebook document DL_Lab_Exercises.\n"
   ]
  },
  {
   "cell_type": "markdown",
   "metadata": {
    "colab_type": "text",
    "id": "tBU4Q_BHfE4x"
   },
   "source": [
    "#### Exercise 2.3\n",
    "Perform Exercise 2.3 in Jupyter notebook document DL_Lab_Exercises.\n",
    "\n",
    "\n",
    "---\n",
    "\n",
    "\n",
    "\n"
   ]
  },
  {
   "cell_type": "markdown",
   "metadata": {
    "colab_type": "text",
    "id": "au5xs64ogXkT"
   },
   "source": [
    "## Section 3: Image Classification using Convolutional Neural Networks (CNN)\n",
    "\n",
    "In this section, we will learn how to implement a convolutional neural network (CNN). \n",
    "CNN's have the advantage that they can dramatically reduce the number of parameters and the computation relative to dense networks. \n",
    "This makes it practical to implement deep neural networks containing many layers, which have been demonstrated to greatly improve accurcy in tasks such as classification. \n",
    "\n",
    "The code for a CNN is similar to that for a dense network. We first need to import the Keras package and download the MINIST data just like before:"
   ]
  },
  {
   "cell_type": "code",
   "execution_count": 37,
   "metadata": {
    "colab": {},
    "colab_type": "code",
    "id": "HdJPx1QEu34s"
   },
   "outputs": [],
   "source": [
    "from keras.datasets import mnist\n",
    "from keras.utils import to_categorical\n",
    "\n",
    "(train_images, train_labels), (test_images, test_labels) = mnist.load_data()\n",
    "\n",
    "train_images = train_images.reshape((60000, 28, 28, 1))\n",
    "train_images_nor = train_images.astype('float32') / 255\n",
    "test_images = test_images.reshape((10000, 28, 28, 1))\n",
    "test_images_nor = test_images.astype('float32') / 255\n",
    "\n",
    "train_labels_cat = to_categorical(train_labels)\n",
    "test_labels_cat = to_categorical(test_labels)\n"
   ]
  },
  {
   "cell_type": "markdown",
   "metadata": {
    "colab_type": "text",
    "id": "MCSoNs1TxHZ7"
   },
   "source": [
    "Next we will need to define the core structure of the CNN by using the sequential model to add layers to the network.\n",
    "The layers of our CNN are organized into two distinct sections corresponding to the feature extraction and feature classification.\n",
    "\n",
    "The **feature extraction** section consists of convolution and pooling layers that are designed to extract local features from the images that will be used in classification.\n",
    "The maxpooling operations are used in order to reduce the dimension of the signal, while through the non-linear max( ) operation the most dominant features can permiate.\n",
    "\n",
    "The **classification section** consists of dense layers used to compute the final classification of the image.\n",
    "The dense layers are practical to use at this point because the dimensionality of the images has been reduced significantly. \n",
    "Finally, the softmax operation is used in the final layer in order to create an output that can be interpreted as a probability distribution over the possible classes.\n",
    "\n",
    "The code below implements such a network using a total of 4 full layers."
   ]
  },
  {
   "cell_type": "code",
   "execution_count": 38,
   "metadata": {
    "colab": {
     "base_uri": "https://localhost:8080/",
     "height": 381
    },
    "colab_type": "code",
    "id": "TU6tZpBbcUP6",
    "outputId": "6ccb7fad-a228-49f5-fa91-81d083457009"
   },
   "outputs": [
    {
     "name": "stdout",
     "output_type": "stream",
     "text": [
      "Model: \"sequential_2\"\n",
      "_________________________________________________________________\n",
      "Layer (type)                 Output Shape              Param #   \n",
      "=================================================================\n",
      "conv2d_1 (Conv2D)            (None, 26, 26, 16)        160       \n",
      "_________________________________________________________________\n",
      "max_pooling2d_1 (MaxPooling2 (None, 13, 13, 16)        0         \n",
      "_________________________________________________________________\n",
      "conv2d_2 (Conv2D)            (None, 11, 11, 32)        4640      \n",
      "_________________________________________________________________\n",
      "max_pooling2d_2 (MaxPooling2 (None, 5, 5, 32)          0         \n",
      "_________________________________________________________________\n",
      "flatten_2 (Flatten)          (None, 800)               0         \n",
      "_________________________________________________________________\n",
      "dense_3 (Dense)              (None, 64)                51264     \n",
      "_________________________________________________________________\n",
      "dense_4 (Dense)              (None, 10)                650       \n",
      "=================================================================\n",
      "Total params: 56,714\n",
      "Trainable params: 56,714\n",
      "Non-trainable params: 0\n",
      "_________________________________________________________________\n"
     ]
    }
   ],
   "source": [
    "from keras import layers\n",
    "from keras import models\n",
    "\n",
    "model = models.Sequential()\n",
    "# ---- Feature extraction section\n",
    "# First Layer\n",
    "model.add(layers.Conv2D(16, (3, 3), activation='relu', input_shape=(28, 28, 1)))\n",
    "model.add(layers.MaxPooling2D((2, 2)))\n",
    "# Second Layer\n",
    "model.add(layers.Conv2D(32, (3, 3), activation='relu'))\n",
    "model.add(layers.MaxPooling2D((2, 2)))\n",
    "\n",
    "# ---- Classification section\n",
    "# Rearrange the data\n",
    "model.add(layers.Flatten())\n",
    "# Third Layer\n",
    "model.add(layers.Dense(64, activation='relu'))\n",
    "# Fourth Layer\n",
    "model.add(layers.Dense(10, activation='softmax'))\n",
    "\n",
    "model.summary()"
   ]
  },
  {
   "cell_type": "markdown",
   "metadata": {
    "colab_type": "text",
    "id": "1wRFyoicn-gL"
   },
   "source": [
    "1.\n",
    "* In the first layer we are feeding in images of size 28x28x1 which is specified by the `input_shape` argument. This is different than with the fully connected networks above where the images were flattened into 1D vectors of length 784. CNNs work on images in their usual 3D array representation, where the dimenstions are width, height and (color) cannel.\n",
    "* The number of feature maps is set to 16 and the kernel size is 3x3. That means that the input is being convolved with 16 different trainable 3x3 kernels each yielding a different feature map.\n",
    "* The max-pooling layer defines a 2D pooling operation. For each 2x2 window in the input the maximum activation is being permeated.\n",
    "\n",
    "2.\n",
    "* The second layer is similar to the first one. After these two layers the max-pooling (and boundary cropping) reduce the feature map sizes significantly from 28x28 to 13x13 and finally to 5x5, while the number of maps is being grown from 1 to 16 and finally to 32. \n",
    "\n",
    "3.\n",
    "* In the third layer we transition to a dense network. Here the `layers.Flatten` command flattens the tensors so that they can be fed into the dense layers similar to the fully connected networks that we looked at in the previous section.\n",
    "\n",
    "4.\n",
    "* In the forth layer, again, we map the activations to a pseudo probability density using a dense layer and a soft-max non-linearitly.\n"
   ]
  },
  {
   "cell_type": "markdown",
   "metadata": {
    "colab_type": "text",
    "id": "WPFnSLGH1tQX"
   },
   "source": [
    "Next we compile the model and train it with the `model.fit` command the same way as in the previous section."
   ]
  },
  {
   "cell_type": "code",
   "execution_count": 39,
   "metadata": {
    "colab": {
     "base_uri": "https://localhost:8080/",
     "height": 225
    },
    "colab_type": "code",
    "id": "ta3H6KkExNQf",
    "outputId": "fbcadd7f-c7c7-48e8-b298-1fc82400a7db"
   },
   "outputs": [
    {
     "name": "stdout",
     "output_type": "stream",
     "text": [
      "Epoch 1/5\n",
      "60000/60000 [==============================] - 88s 1ms/step - loss: 0.3069 - accuracy: 0.9075\n",
      "Epoch 2/5\n",
      "60000/60000 [==============================] - 114s 2ms/step - loss: 0.0817 - accuracy: 0.9752\n",
      "Epoch 3/5\n",
      "60000/60000 [==============================] - 114s 2ms/step - loss: 0.0554 - accuracy: 0.9827\n",
      "Epoch 4/5\n",
      "60000/60000 [==============================] - 110s 2ms/step - loss: 0.0415 - accuracy: 0.9869\n",
      "Epoch 5/5\n",
      "60000/60000 [==============================] - 111s 2ms/step - loss: 0.0344 - accuracy: 0.9893\n",
      "10000/10000 [==============================] - 4s 418us/step\n",
      "test_acc: 0.9891999959945679\n"
     ]
    }
   ],
   "source": [
    "model.compile(optimizer='rmsprop',\n",
    "              loss='categorical_crossentropy',\n",
    "              metrics=['accuracy'])\n",
    "\n",
    "model.fit(train_images_nor, train_labels_cat, epochs=5, batch_size=128)\n",
    "\n",
    "test_loss, test_acc = model.evaluate(test_images_nor, test_labels_cat)\n",
    "print('test_acc:', test_acc)"
   ]
  },
  {
   "cell_type": "markdown",
   "metadata": {
    "colab_type": "text",
    "id": "bw1kW1AXEBfL"
   },
   "source": [
    "This time the training accuracy is about 99.5% and the testing accuracy is about 99%. This is higher than with the fully connected network in the previous section, which was about 98% in testing. However, note that surprisingly the number of parameters in this CNN is smaller, too. The fully connected network has 407,050 parameters, while the CNN only has 56,714.\n",
    "\n",
    "This is one of the reasons why convolutional neural network are so popular in image processing applications. \n",
    "They can dramatically reduce the number of parameters that are being used in the neural network, while achieveing a high accuracy. \n",
    "\n",
    "These observations show valuable benefits of CNNs. Networks with fewer parameters are generally less likely to overfit and can be more time and memory efficient.\n"
   ]
  },
  {
   "cell_type": "markdown",
   "metadata": {
    "colab_type": "text",
    "id": "iPwwPc6F7Xuj"
   },
   "source": [
    "#### Exercise 3.1\n",
    "Perform Exercise 3.1 in Jupyter notebook document DL_Lab_Exercises.\n",
    "\n",
    "\n",
    "---\n",
    "\n"
   ]
  },
  {
   "cell_type": "markdown",
   "metadata": {
    "colab_type": "text",
    "id": "EEUQI9By8eve"
   },
   "source": [
    "##Section 4: Autoencoders\n",
    "\n",
    "Autoencoders are a general class of neural networks that consist of two components: an encoder and a decoder.\n",
    "The encoder takes the image and encodes it into a low dimensional vector representation. \n",
    "The decoder then takes the vector and decompresses it into something close to the original image.\n",
    "Autoencoders have a variety of useful applications including denoising of images.\n",
    "Moreover, they are just cool because they provide a mechanism to represent complex image content as low dimensional vectors.\n",
    "\n",
    "Another important feature of autoencoders is that they use unsupervised training. \n",
    "In other words, they can be trained without using the training labels.\n",
    "This is important because in many cases it may be difficult to obtain labeled training data or ground truth. \n",
    "\n",
    "In this section, we will learn how to implement a simple autoencoder using a CNN. "
   ]
  },
  {
   "cell_type": "markdown",
   "metadata": {
    "colab_type": "text",
    "id": "0sZ1JGLBnK3B"
   },
   "source": [
    "### Simple autoencoders\n",
    "We will first implement a simple autoencoder consisting of an encoder and decoder each formed by one dense layer. \n",
    "\n",
    "In order to initialize our program, we start by importing the required packages, downloading the data, reshaping the data to fit in a dense network, and then normlizing the data to the range of [0, 1]."
   ]
  },
  {
   "cell_type": "code",
   "execution_count": 40,
   "metadata": {
    "colab": {},
    "colab_type": "code",
    "id": "qB0doBxN6QCU"
   },
   "outputs": [],
   "source": [
    "from keras.datasets import mnist\n",
    "from keras.utils import to_categorical\n",
    "\n",
    "(train_images, train_labels), (test_images, test_labels) = mnist.load_data()\n",
    "\n",
    "train_images = train_images.reshape((60000, 28, 28, 1))\n",
    "train_images_nor = train_images.astype('float32') / 255\n",
    "test_images = test_images.reshape((10000, 28, 28, 1))\n",
    "test_images_nor = test_images.astype('float32') / 255\n",
    "\n",
    "train_labels_cat = to_categorical(train_labels)\n",
    "test_labels_cat = to_categorical(test_labels)"
   ]
  },
  {
   "cell_type": "markdown",
   "metadata": {
    "colab_type": "text",
    "id": "d0gCGQQLrp3I"
   },
   "source": [
    "The following commands construct a simple autoencoder with an encoding dimension of `encoding_dim`.\n",
    "This means that the images, in this case hand written digits, are represented with high fidelily by a `encoding_dim` dimensional vector which is a lower dimensional space than the original images. \n",
    "Both the encoder and decoder are formed by a dense layer.\n",
    "However, the encoder uses a ReLU and then decoder uses a sigmoid. \n",
    "The sigmoid is used for the output because it tends to be able to represent a continuously valued image more accurately, but at the cost of slightly greater complexity."
   ]
  },
  {
   "cell_type": "code",
   "execution_count": 41,
   "metadata": {
    "colab": {},
    "colab_type": "code",
    "id": "U7TyP1oZfLNP"
   },
   "outputs": [],
   "source": [
    "encoding_dim = 32\n",
    "input_dim = train_images_nor.shape[1:]\n",
    "\n",
    "# define the encoder layers\n",
    "encoder = models.Sequential()\n",
    "encoder.add(layers.Flatten(input_shape=input_dim))\n",
    "encoder.add(layers.Dense(encoding_dim, activation='relu'))\n",
    "\n",
    "# define the decoder layers\n",
    "decoder = models.Sequential()\n",
    "decoder.add(layers.Dense(input_dim[0]*input_dim[1]*input_dim[2], activation='sigmoid'))\n",
    "decoder.add(layers.Reshape(input_dim))\n",
    "\n",
    "# concatenate the encoder and decoder\n",
    "autoencoder = models.Sequential()\n",
    "autoencoder.add(encoder)\n",
    "autoencoder.add(decoder)"
   ]
  },
  {
   "cell_type": "markdown",
   "metadata": {
    "colab_type": "text",
    "id": "r-X9cYPpOJLK"
   },
   "source": [
    "The following comands prints out the structure of the resulting network for the encoder, the decoder, and the complete autoencoder."
   ]
  },
  {
   "cell_type": "code",
   "execution_count": 42,
   "metadata": {
    "colab": {
     "base_uri": "https://localhost:8080/",
     "height": 589
    },
    "colab_type": "code",
    "id": "X7IOCZuhODyb",
    "outputId": "79553e64-db16-460a-d266-fea6728d4be5"
   },
   "outputs": [
    {
     "name": "stdout",
     "output_type": "stream",
     "text": [
      "Model: \"sequential_3\"\n",
      "_________________________________________________________________\n",
      "Layer (type)                 Output Shape              Param #   \n",
      "=================================================================\n",
      "flatten_3 (Flatten)          (None, 784)               0         \n",
      "_________________________________________________________________\n",
      "dense_5 (Dense)              (None, 32)                25120     \n",
      "=================================================================\n",
      "Total params: 25,120\n",
      "Trainable params: 25,120\n",
      "Non-trainable params: 0\n",
      "_________________________________________________________________\n",
      "Model: \"sequential_4\"\n",
      "_________________________________________________________________\n",
      "Layer (type)                 Output Shape              Param #   \n",
      "=================================================================\n",
      "dense_6 (Dense)              (None, 784)               25872     \n",
      "_________________________________________________________________\n",
      "reshape_1 (Reshape)          (None, 28, 28, 1)         0         \n",
      "=================================================================\n",
      "Total params: 25,872\n",
      "Trainable params: 25,872\n",
      "Non-trainable params: 0\n",
      "_________________________________________________________________\n",
      "Model: \"sequential_5\"\n",
      "_________________________________________________________________\n",
      "Layer (type)                 Output Shape              Param #   \n",
      "=================================================================\n",
      "sequential_3 (Sequential)    (None, 32)                25120     \n",
      "_________________________________________________________________\n",
      "sequential_4 (Sequential)    (None, 28, 28, 1)         25872     \n",
      "=================================================================\n",
      "Total params: 50,992\n",
      "Trainable params: 50,992\n",
      "Non-trainable params: 0\n",
      "_________________________________________________________________\n"
     ]
    }
   ],
   "source": [
    "# print out the format of the encoder and decoder\n",
    "encoder.summary()\n",
    "decoder.summary()\n",
    "autoencoder.summary()"
   ]
  },
  {
   "cell_type": "markdown",
   "metadata": {
    "colab_type": "text",
    "id": "KWStdtVvx2tJ"
   },
   "source": [
    "Next we compile the simple autoencoder using the \"Adam\" optimizer and \"binary crossentropy\" loss function. Then we run the training on the model for 20 epochs, with a batch size = 256.\n",
    "Setting the parameter `shuffle=True`specifies that for each new epoch a new random shuffling of the batches will occur. This helps to speed convergence of the training."
   ]
  },
  {
   "cell_type": "code",
   "execution_count": 46,
   "metadata": {
    "colab": {
     "base_uri": "https://localhost:8080/",
     "height": 711
    },
    "colab_type": "code",
    "id": "9YrqKH7J4kCg",
    "outputId": "42d518e6-da1f-4137-9e0d-e95974987b3a"
   },
   "outputs": [
    {
     "name": "stdout",
     "output_type": "stream",
     "text": [
      "Epoch 1/5\n",
      "60000/60000 [==============================] - 4s 64us/step - loss: 0.0147\n",
      "Epoch 2/5\n",
      "60000/60000 [==============================] - 4s 62us/step - loss: 0.0131\n",
      "Epoch 3/5\n",
      "60000/60000 [==============================] - 3s 57us/step - loss: 0.0121\n",
      "Epoch 4/5\n",
      "60000/60000 [==============================] - 4s 60us/step - loss: 0.0115\n",
      "Epoch 5/5\n",
      "60000/60000 [==============================] - 4s 62us/step - loss: 0.0111\n"
     ]
    }
   ],
   "source": [
    "autoencoder.compile(optimizer='adam', loss='mean_squared_error')\n",
    "history = autoencoder.fit(train_images_nor, train_images_nor, \n",
    "                epochs=5, \n",
    "                batch_size=256,\n",
    "                shuffle=True)\n",
    "\n"
   ]
  },
  {
   "cell_type": "markdown",
   "metadata": {
    "colab_type": "text",
    "id": "g2L7o0vy6bBb"
   },
   "source": [
    "Next we plot the loss function, in this case Root Mean Squared Error, as a function of the epoch number"
   ]
  },
  {
   "cell_type": "code",
   "execution_count": 56,
   "metadata": {
    "colab": {
     "base_uri": "https://localhost:8080/",
     "height": 397
    },
    "colab_type": "code",
    "id": "mIZqm5OC71Vb",
    "outputId": "c77a3a09-7549-4719-b119-039f2de6095e"
   },
   "outputs": [
    {
     "data": {
      "image/png": "[encoded data removed]",
      "text/plain": [
       "<Figure size 432x288 with 1 Axes>"
      ]
     },
     "metadata": {
      "needs_background": "light"
     },
     "output_type": "display_data"
    },
    {
     "name": "stdout",
     "output_type": "stream",
     "text": [
      "10000/10000 [==============================] - 22s 2ms/step\n",
      "test_acc: 0.014031663905084132\n"
     ]
    }
   ],
   "source": [
    "plt.plot(np.sqrt(history.history['loss']))\n",
    "plt.title('Loss')\n",
    "plt.show()\n",
    "\n",
    "test_loss = autoencoder.evaluate(test_images_nor, test_images_nor)\n",
    "print('test_acc:', test_loss) "
   ]
  },
  {
   "cell_type": "markdown",
   "metadata": {
    "colab_type": "text",
    "id": "8jxf4UZTWHAT"
   },
   "source": [
    "The following function helps us plot the input images, the encoded representation and the reconstructed images."
   ]
  },
  {
   "cell_type": "code",
   "execution_count": 49,
   "metadata": {
    "colab": {},
    "colab_type": "code",
    "id": "ipXzmVZtX0k0"
   },
   "outputs": [],
   "source": [
    "def showImages(input_imgs, encoded_imgs, output_imgs, size=1.5, groundTruth=None):\n",
    "\n",
    "    numCols = 3 if groundTruth is None else 4\n",
    "  \n",
    "    num_images = input_imgs.shape[0]\n",
    "      \n",
    "    encoded_imgs = encoded_imgs.reshape((num_images, 1, -1))\n",
    "    \n",
    "\n",
    "    plt.figure(figsize=((numCols+encoded_imgs.shape[2]/input_imgs.shape[2])*size, num_images*size))\n",
    "\n",
    "    pltIdx = 0\n",
    "    col = 0\n",
    "    for i in range(0, num_images):\n",
    "\n",
    "        col += 1\n",
    "    # plot input image\n",
    "        pltIdx += 1\n",
    "        ax = plt.subplot(num_images, numCols, pltIdx)\n",
    "        plt.imshow(input_imgs[i].reshape(28, 28))\n",
    "        plt.gray()\n",
    "        ax.get_xaxis().set_visible(False)\n",
    "        ax.get_yaxis().set_visible(False)\n",
    "        if col == 1:\n",
    "            plt.title('Input Image')\n",
    "\n",
    "    # plot encoding\n",
    "        pltIdx += 1\n",
    "        ax = plt.subplot(num_images, numCols, pltIdx)\n",
    "        plt.imshow(encoded_imgs[i])\n",
    "        plt.gray()\n",
    "        ax.get_xaxis().set_visible(False)\n",
    "        ax.get_yaxis().set_visible(False)\n",
    "        if col == 1:\n",
    "            plt.title('Encoded Image')\n",
    "\n",
    "    # plot reconstructed image\n",
    "        pltIdx += 1\n",
    "        ax = plt.subplot(num_images, numCols, pltIdx)\n",
    "        plt.imshow(output_imgs[i].reshape(28, 28))\n",
    "        plt.gray()\n",
    "        ax.get_xaxis().set_visible(False)\n",
    "        ax.get_yaxis().set_visible(False)\n",
    "        if col == 1:\n",
    "            plt.title('Reconstructed Image')\n",
    "\n",
    "        if numCols == 4:\n",
    "          # plot ground truth image\n",
    "            pltIdx += 1\n",
    "            ax = plt.subplot(num_images, numCols, pltIdx)\n",
    "            plt.imshow(groundTruth[i].reshape(28, 28))\n",
    "            plt.gray()\n",
    "            ax.get_xaxis().set_visible(False)\n",
    "            ax.get_yaxis().set_visible(False)\n",
    "\n",
    "            if col == 1:\n",
    "                plt.title('Ground Truth')\n",
    "\n",
    "    plt.show()"
   ]
  },
  {
   "cell_type": "markdown",
   "metadata": {
    "colab_type": "text",
    "id": "1EzvVDZDWS1a"
   },
   "source": [
    "And with that we can plot the first couple of images from the test data set and the corresponding encodings and reconstructions. The `predict` function helps us feed the test images through the network. We sort the images by their label so same-class examples are next to one another. Note that similar images also have similar encoding vectors."
   ]
  },
  {
   "cell_type": "code",
   "execution_count": 50,
   "metadata": {
    "colab": {
     "base_uri": "https://localhost:8080/",
     "height": 699
    },
    "colab_type": "code",
    "id": "RQKgegKKMHPv",
    "outputId": "1937cb36-0355-4b97-bebd-240558dc6feb"
   },
   "outputs": [
    {
     "data": {
      "image/png": "[encoded data removed]",
      "text/plain": [
       "<Figure size 596.571x864 with 18 Axes>"
      ]
     },
     "metadata": {
      "needs_background": "light"
     },
     "output_type": "display_data"
    }
   ],
   "source": [
    "num_images = 6\n",
    "\n",
    "input_labels = test_labels[0:num_images]\n",
    "I = np.argsort(input_labels)\n",
    "\n",
    "input_imgs = test_images[I]\n",
    "\n",
    "encoded_imgs = encoder.predict(test_images_nor[I])\n",
    "output_imgs = decoder.predict(encoded_imgs)\n",
    "\n",
    "\n",
    "showImages(input_imgs, encoded_imgs, output_imgs, size=2)"
   ]
  },
  {
   "cell_type": "markdown",
   "metadata": {
    "colab_type": "text",
    "id": "ur8yd6Yl2bJ1"
   },
   "source": [
    "### CNN autoencoders\n",
    "In this section, we demonstrate how to use CNNs for autoencoders.\n",
    "First we import the data and required packages.\n",
    "Then we reshape and scale the images."
   ]
  },
  {
   "cell_type": "code",
   "execution_count": 51,
   "metadata": {
    "colab": {},
    "colab_type": "code",
    "id": "XRBXE15lYqzW"
   },
   "outputs": [],
   "source": [
    "from keras.datasets import mnist\n",
    "from keras.utils import to_categorical\n",
    "\n",
    "(train_images, train_labels), (test_images, test_labels) = mnist.load_data()\n",
    "\n",
    "train_images = train_images.reshape((60000, 28, 28, 1))\n",
    "train_images_nor = train_images.astype('float32') / 255\n",
    "test_images = test_images.reshape((10000, 28, 28, 1))\n",
    "test_images_nor = test_images.astype('float32') / 255\n",
    "\n",
    "train_labels_cat = to_categorical(train_labels)\n",
    "test_labels_cat = to_categorical(test_labels)"
   ]
  },
  {
   "cell_type": "markdown",
   "metadata": {
    "colab_type": "text",
    "id": "i7-VOVtcB-uf"
   },
   "source": [
    "Next we build the models for both the encoder and decoder. Note that the middle section resembles the fully connected autoencoder from above. But here we are using a contractive concolutional section in front and a expansive convolutional section in the back of the network.\n",
    "This makes the fully connected section have fewer parameters due to lower dimensionality. The encoding dimesion is still `encoding_dim` as before. So information passes through the same sized bottleneck."
   ]
  },
  {
   "cell_type": "code",
   "execution_count": 52,
   "metadata": {
    "colab": {},
    "colab_type": "code",
    "id": "2n8jXqGUB4YP"
   },
   "outputs": [],
   "source": [
    "# Build Encoder\n",
    "encoder = models.Sequential()\n",
    "encoder.add(layers.Conv2D(32, (3, 3), activation='relu', padding='same', input_shape=train_images.shape[1:]))\n",
    "encoder.add(layers.MaxPooling2D((2, 2),                  padding='same'))\n",
    "encoder.add(layers.Conv2D(16, (3, 3),  activation='relu', padding='same'))\n",
    "encoder.add(layers.MaxPooling2D((2, 2),                  padding='same'))\n",
    "encoder.add(layers.Conv2D(8, (3, 3),  activation='relu', padding='same', name='convOutput'))\n",
    "\n",
    "encoder.add(layers.Flatten())\n",
    "encoder.add(layers.Dense(encoding_dim, activation='relu'))\n",
    "\n",
    "\n",
    "# shape considerations\n",
    "convShape = encoder.get_layer('convOutput').output_shape[1:]\n",
    "denseShape = convShape[0]*convShape[1]*convShape[2]\n",
    "\n",
    "\n",
    "# Build Decoder\n",
    "decoder = models.Sequential()\n",
    "decoder.add(layers.Dense(denseShape, input_shape=(encoding_dim,)))\n",
    "decoder.add(layers.Reshape(convShape))\n",
    "\n",
    "decoder.add(layers.Conv2D(8, (3, 3),  activation='relu',    padding='same'))\n",
    "decoder.add(layers.UpSampling2D((2, 2)))\n",
    "decoder.add(layers.Conv2D(16, (3, 3),  activation='relu',    padding='same'))\n",
    "decoder.add(layers.UpSampling2D((2, 2)))\n",
    "decoder.add(layers.Conv2D(32, (3, 3), activation='relu',    padding='same'))\n",
    "decoder.add(layers.Conv2D(1, (3, 3),  activation='sigmoid', padding='same'))\n"
   ]
  },
  {
   "cell_type": "markdown",
   "metadata": {
    "colab_type": "text",
    "id": "ORFVQ7rsCjsS"
   },
   "source": [
    "Then we build the autoencoder by putting the encoder and decoder together, and we print out the resulting model."
   ]
  },
  {
   "cell_type": "code",
   "execution_count": 54,
   "metadata": {
    "colab": {
     "base_uri": "https://localhost:8080/",
     "height": 971
    },
    "colab_type": "code",
    "id": "Ph599EaTCg4b",
    "outputId": "b737830d-f2c3-4f88-9676-66df7fb3f5b7"
   },
   "outputs": [
    {
     "name": "stdout",
     "output_type": "stream",
     "text": [
      "Model: \"sequential_6\"\n",
      "_________________________________________________________________\n",
      "Layer (type)                 Output Shape              Param #   \n",
      "=================================================================\n",
      "conv2d_3 (Conv2D)            (None, 28, 28, 32)        320       \n",
      "_________________________________________________________________\n",
      "max_pooling2d_3 (MaxPooling2 (None, 14, 14, 32)        0         \n",
      "_________________________________________________________________\n",
      "conv2d_4 (Conv2D)            (None, 14, 14, 16)        4624      \n",
      "_________________________________________________________________\n",
      "max_pooling2d_4 (MaxPooling2 (None, 7, 7, 16)          0         \n",
      "_________________________________________________________________\n",
      "convOutput (Conv2D)          (None, 7, 7, 8)           1160      \n",
      "_________________________________________________________________\n",
      "flatten_4 (Flatten)          (None, 392)               0         \n",
      "_________________________________________________________________\n",
      "dense_7 (Dense)              (None, 32)                12576     \n",
      "=================================================================\n",
      "Total params: 18,680\n",
      "Trainable params: 18,680\n",
      "Non-trainable params: 0\n",
      "_________________________________________________________________\n",
      "Model: \"sequential_7\"\n",
      "_________________________________________________________________\n",
      "Layer (type)                 Output Shape              Param #   \n",
      "=================================================================\n",
      "dense_8 (Dense)              (None, 392)               12936     \n",
      "_________________________________________________________________\n",
      "reshape_2 (Reshape)          (None, 7, 7, 8)           0         \n",
      "_________________________________________________________________\n",
      "conv2d_5 (Conv2D)            (None, 7, 7, 8)           584       \n",
      "_________________________________________________________________\n",
      "up_sampling2d_1 (UpSampling2 (None, 14, 14, 8)         0         \n",
      "_________________________________________________________________\n",
      "conv2d_6 (Conv2D)            (None, 14, 14, 16)        1168      \n",
      "_________________________________________________________________\n",
      "up_sampling2d_2 (UpSampling2 (None, 28, 28, 16)        0         \n",
      "_________________________________________________________________\n",
      "conv2d_7 (Conv2D)            (None, 28, 28, 32)        4640      \n",
      "_________________________________________________________________\n",
      "conv2d_8 (Conv2D)            (None, 28, 28, 1)         289       \n",
      "=================================================================\n",
      "Total params: 19,617\n",
      "Trainable params: 19,617\n",
      "Non-trainable params: 0\n",
      "_________________________________________________________________\n",
      "Model: \"sequential_9\"\n",
      "_________________________________________________________________\n",
      "Layer (type)                 Output Shape              Param #   \n",
      "=================================================================\n",
      "sequential_6 (Sequential)    (None, 32)                18680     \n",
      "_________________________________________________________________\n",
      "sequential_7 (Sequential)    (None, 28, 28, 1)         19617     \n",
      "=================================================================\n",
      "Total params: 38,297\n",
      "Trainable params: 38,297\n",
      "Non-trainable params: 0\n",
      "_________________________________________________________________\n"
     ]
    }
   ],
   "source": [
    "# Build Autoencoder\n",
    "autoencoder = models.Sequential()\n",
    "autoencoder.add(encoder)\n",
    "autoencoder.add(decoder)\n",
    "\n",
    "encoder.summary()\n",
    "decoder.summary()\n",
    "autoencoder.summary()"
   ]
  },
  {
   "cell_type": "code",
   "execution_count": null,
   "metadata": {},
   "outputs": [],
   "source": []
  },
  {
   "cell_type": "markdown",
   "metadata": {
    "colab_type": "text",
    "id": "S7Uc8pMXDU9T"
   },
   "source": [
    "Next we compile the simple autoencoder using the \"Adam\" optimizer and \"binary crossentropy\" loss function. Then we run the training on the model for 20 epochs, with a batch size = 256.\n",
    "Setting the parameter `shuffle=True` specifies that for each new epoch a new random shuffling of the batches will occur. This helps to speed convergence of the training."
   ]
  },
  {
   "cell_type": "code",
   "execution_count": 55,
   "metadata": {
    "colab": {
     "base_uri": "https://localhost:8080/",
     "height": 711
    },
    "colab_type": "code",
    "id": "N5GCG8TbdQng",
    "outputId": "dadc134e-6871-4eb4-ed36-205c41177c1e"
   },
   "outputs": [
    {
     "name": "stdout",
     "output_type": "stream",
     "text": [
      "Epoch 1/5\n",
      "60000/60000 [==============================] - 379s 6ms/step - loss: 0.0654\n",
      "Epoch 2/5\n",
      "60000/60000 [==============================] - 381s 6ms/step - loss: 0.0233\n",
      "Epoch 3/5\n",
      "60000/60000 [==============================] - 386s 6ms/step - loss: 0.0182\n",
      "Epoch 4/5\n",
      "60000/60000 [==============================] - 394s 7ms/step - loss: 0.0159\n",
      "Epoch 5/5\n",
      "60000/60000 [==============================] - 622s 10ms/step - loss: 0.0146\n"
     ]
    }
   ],
   "source": [
    "autoencoder.compile(optimizer='adam', loss='mean_squared_error')\n",
    "history = autoencoder.fit(train_images_nor, train_images_nor, \n",
    "                epochs=5, \n",
    "                batch_size=256,\n",
    "                shuffle=True)"
   ]
  },
  {
   "cell_type": "markdown",
   "metadata": {
    "colab_type": "text",
    "id": "dRt5pN39_a2P"
   },
   "source": [
    "Next we plot the loss function, in this case Root Mean Squared Error, as a function of the epoch number"
   ]
  },
  {
   "cell_type": "code",
   "execution_count": 0,
   "metadata": {
    "colab": {
     "base_uri": "https://localhost:8080/",
     "height": 397
    },
    "colab_type": "code",
    "id": "OsMeiGq4_gYQ",
    "outputId": "c050bb1b-4b08-4998-a2fb-e8d44bddf80c"
   },
   "outputs": [
    {
     "data": {
      "image/png": "[encoded data removed]",
      "text/plain": [
       "<Figure size 576x396 with 1 Axes>"
      ]
     },
     "metadata": {
      "tags": []
     },
     "output_type": "display_data"
    },
    {
     "name": "stdout",
     "output_type": "stream",
     "text": [
      "10000/10000 [==============================] - 1s 131us/step\n",
      "test_acc: 0.008595911006629467\n"
     ]
    }
   ],
   "source": [
    "plt.plot(np.sqrt(history.history['loss']))\n",
    "plt.title('Loss')\n",
    "plt.show()\n",
    "\n",
    "test_loss = autoencoder.evaluate(test_images_nor, test_images_nor)\n",
    "print('test_acc:', test_loss)"
   ]
  },
  {
   "cell_type": "markdown",
   "metadata": {
    "colab_type": "text",
    "id": "i8WmyLfma7gq"
   },
   "source": [
    "And again we can plot the first couple of images from the test data set and the corresponding encodings and reconstructions.\n",
    "This time we achieve higher accuracy with fewer parameters. "
   ]
  },
  {
   "cell_type": "code",
   "execution_count": 0,
   "metadata": {
    "colab": {
     "base_uri": "https://localhost:8080/",
     "height": 699
    },
    "colab_type": "code",
    "id": "W4qxYofVgP1h",
    "outputId": "f1a8fdce-32f9-4fe8-9c2f-7d20ec7be29d"
   },
   "outputs": [
    {
     "data": {
      "image/png": "[encoded data removed]",
      "text/plain": [
       "<Figure size 596.571x864 with 18 Axes>"
      ]
     },
     "metadata": {
      "tags": []
     },
     "output_type": "display_data"
    }
   ],
   "source": [
    "num_images = 6\n",
    "\n",
    "input_labels = test_labels[0:num_images]\n",
    "I = np.argsort(input_labels)\n",
    "\n",
    "input_imgs = test_images[I]\n",
    "\n",
    "encoded_imgs = encoder.predict(test_images_nor[I])\n",
    "output_imgs = decoder.predict(encoded_imgs)\n",
    "\n",
    "\n",
    "showImages(input_imgs, encoded_imgs, output_imgs, size=2)"
   ]
  },
  {
   "cell_type": "markdown",
   "metadata": {
    "colab_type": "text",
    "id": "7HS5uyMeM1f4"
   },
   "source": [
    "### Exercise 4.1\n",
    "Perform Exercise 4.1 in Jupyter notebook document **DL_Lab_Exercises**."
   ]
  }
 ],
 "metadata": {
  "accelerator": "GPU",
  "colab": {
   "collapsed_sections": [],
   "name": "DL_Lab_Instructions.ipynb",
   "provenance": [],
   "version": "0.3.2"
  },
  "kernelspec": {
   "display_name": "Python 3 (ipykernel)",
   "language": "python",
   "name": "python3"
  },
  "language_info": {
   "codemirror_mode": {
    "name": "ipython",
    "version": 3
   },
   "file_extension": ".py",
   "mimetype": "text/x-python",
   "name": "python",
   "nbconvert_exporter": "python",
   "pygments_lexer": "ipython3",
   "version": "3.7.13"
  }
 },
 "nbformat": 4,
 "nbformat_minor": 1
}
